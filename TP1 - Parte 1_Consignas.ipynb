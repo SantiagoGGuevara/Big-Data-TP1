{
 "cells": [
  {
   "cell_type": "markdown",
   "metadata": {
    "collapsed": true,
    "id": "Dh8MkXaG-c9Y",
    "jupyter": {
     "outputs_hidden": true
    }
   },
   "source": [
    "# Curso de Big Data. Otoño 2024\n",
    "\n",
    "## Trabajo Práctico 1 - Parte 1 "
   ]
  },
  {
   "cell_type": "markdown",
   "metadata": {
    "id": "RhBlm6mZ-c9e"
   },
   "source": [
    "### Reglas de formato y presentación\n",
    "- El trabajo debe estar bien comentado (utilizando #) para que el código sea fácil de entender por sus compañeros y profesores.\n",
    "\n",
    "- El mismo debe ser completado en este Jupyter Notebook y entregado como tal, es decir en un archivo .ipynb\n"
   ]
  },
  {
   "cell_type": "markdown",
   "metadata": {
    "id": "ZEjGaa4U-c9g"
   },
   "source": [
    "### Fecha de entrega:\n",
    "Domingo 24 de marzo a las 23:59hs"
   ]
  },
  {
   "cell_type": "markdown",
   "metadata": {
    "id": "N9TU2y7E-c9h"
   },
   "source": [
    "### Modalidad de entrega\n",
    "- Al finalizar el trabajo práctico deben hacer un último <i>commit</i> en su repositorio de GitHub con el mensaje “Entrega final del tp”. \n",
    "- Asegurense de haber creado una carpeta llamada TP1. Este Jupyter Notebook y el correspondiente al TP1 - Parte 2 deben estar dentro de esa carpeta.\n",
    "- También deben enviar el link de su repositorio -para que pueda ser clonado y corregido- al siguiente email: v.oubina@gmail.com\n",
    "- La última versión en el repositorio es la que será evaluada. Por lo que es importante que: \n",
    "    - No envien el correo hasta no haber terminado y estar seguros de que han hecho el <i>commit y push</i> a la versión final que quieren entregar. Debido a que se pueden tomar hasta 3 días de extensión a lo largo del curso, no se corregirán sus tareas hasta no recibir el correo.\n",
    "    - No hagan nuevos <i>push</i> despues de haber entregado su versión final. Esto generaría confusión acerca de que versión es la que quieren que se les corrija. "
   ]
  },
  {
   "cell_type": "markdown",
   "metadata": {
    "id": "ZXbrPraa-c9i"
   },
   "source": [
    "#### Ejercicio 1\n",
    "Este ejercicio simplemente busca repasar lo que aprendimos sobre definición de variables. Definir dos variables con un nombre combinado (al menos dos palabras), una que se pueda crear y otra que tenga un nombre inaceptable (genera error). Explicar por qué ocurre el error."
   ]
  },
  {
   "cell_type": "code",
   "execution_count": 68,
   "metadata": {
    "id": "mb7PkXfN-c9j"
   },
   "outputs": [
    {
     "ename": "SyntaxError",
     "evalue": "invalid syntax (1080665900.py, line 8)",
     "output_type": "error",
     "traceback": [
      "\u001b[1;36m  Cell \u001b[1;32mIn[68], line 8\u001b[1;36m\u001b[0m\n\u001b[1;33m    variable propia = \"Variable con error\"\u001b[0m\n\u001b[1;37m             ^\u001b[0m\n\u001b[1;31mSyntaxError\u001b[0m\u001b[1;31m:\u001b[0m invalid syntax\n"
     ]
    }
   ],
   "source": [
    "# Caso A\n",
    "\n",
    "variable_propia = \"Mi variable\"\n",
    "print (variable_propia)\n",
    "\n",
    "# Caso B (acá debería saltar un error)\n",
    "\n",
    "variable propia = \"Variable con error\"\n",
    "print (Variable con error)\n"
   ]
  },
  {
   "cell_type": "markdown",
   "metadata": {},
   "source": [
    "Tenemos un error en nuestra segunda variable ya que hay un espacio en el nombre. No podemos poner espacios, utilizamos guiones si la variable tiene un nombre combinado."
   ]
  },
  {
   "cell_type": "markdown",
   "metadata": {},
   "source": [
    "#### Ejercicio 2\n",
    "Importar módulos. Usando el módulo math impriman la tangente de 1. ¿Cuál es el resultado?\n",
    "Hagan este cálculo de dos formas: primero importando el módulo math y usando la función correspondiente y luego solo importando la función específica que precisan para el cálculo."
   ]
  },
  {
   "cell_type": "code",
   "execution_count": 69,
   "metadata": {},
   "outputs": [
    {
     "name": "stdout",
     "output_type": "stream",
     "text": [
      "1.5574077246549023\n",
      "1.5574077246549023\n"
     ]
    }
   ],
   "source": [
    "# Caso A\n",
    "import math \n",
    "\n",
    "tan_de_1 = math.tan(1)\n",
    "print (tan_de_1)\n",
    "\n",
    "# Caso B\n",
    "from math import tan\n",
    "tang_de_1 = math.tan(1)\n",
    "print (tang_de_1)\n"
   ]
  },
  {
   "cell_type": "markdown",
   "metadata": {
    "id": "GlNh0fyv-c9l"
   },
   "source": [
    "#### Ejercicio 3 \n",
    "Este ejercicio trata sobre lograr el intercambio de valores entre dos variables utilizando una variable temporal para hacerlo. Las variables temporales y la sustitución de valores termina siendo útil en algunos loops. Los pasos a seguir son: (a) definir variables A y B (cuyos valores buscaremos invertir); (b) definir una variable temporal que resguarde el valor de B; (c) sustitución (asignar B igual a A y también A igual al valor original de B); (d) imprimir valores para verificar."
   ]
  },
  {
   "cell_type": "code",
   "execution_count": 34,
   "metadata": {
    "id": "uWalSYFC-c9m"
   },
   "outputs": [
    {
     "name": "stdout",
     "output_type": "stream",
     "text": [
      "2\n",
      "2\n",
      "1\n"
     ]
    }
   ],
   "source": [
    "# a) Definir variables A y B, \n",
    "a = 1\n",
    "b = 2\n",
    "\n",
    "# b) Definir variable temporal \"tmp\" igual a B (la variable, no el valor)\n",
    "\n",
    "tmp = b\n",
    "print (tmp)\n",
    "\n",
    "# c) Ahora sustituir variables: variable B igual a variable A (la variable, no el\n",
    "# valor) y viceversa.\n",
    "\n",
    "b = a\n",
    "a = tmp\n",
    "\n",
    "# d) Verifiquemos resultados: imprimir variables A y B\n",
    "print (a)\n",
    "print (b)"
   ]
  },
  {
   "cell_type": "markdown",
   "metadata": {
    "id": "wXhAaRyN-c9p"
   },
   "source": [
    "#### Ejercicio 4\n",
    "En este ejercicio se busca poner en práctica el uso de range() en un for loop. \n",
    "\n",
    "Construir un for loop usando un range(). El range debe ser entre los valores que quieran (con una diferencia mínima de 15 entre start y stop), en incrementos de 3 unidades. Dentro del loop, implementar una sentencia condicional que imprima una leyenda indicando si el input es par o impar."
   ]
  },
  {
   "cell_type": "code",
   "execution_count": 44,
   "metadata": {
    "id": "_oE5sG0c-c9q"
   },
   "outputs": [
    {
     "name": "stdout",
     "output_type": "stream",
     "text": [
      "0 es un número par\n",
      "3 es un número impar\n",
      "6 es un número par\n",
      "9 es un número impar\n",
      "12 es un número par\n",
      "15 es un número impar\n",
      "18 es un número par\n",
      "21 es un número impar\n",
      "24 es un número par\n",
      "27 es un número impar\n"
     ]
    }
   ],
   "source": [
    "# Resolver acá\n",
    "# Límites del rango\n",
    "inicio = 0\n",
    "fin = 30\n",
    "\n",
    "for i in range(inicio, fin, 3):\n",
    "    if i % 2 == 0:\n",
    "        print(f\"{i} es un número par\")\n",
    "    else:\n",
    "        print(f\"{i} es un número impar\")"
   ]
  },
  {
   "cell_type": "markdown",
   "metadata": {
    "id": "h3g5bXUB-c9u"
   },
   "source": [
    "#### Ejercicio 5\n",
    "Para practicar el uso de condiciones lógicas y la definición de funciones, construir una función con una sentencia condicional que verifique si un año es bisiesto o no. Para que un año sea bisiesto debe cumplir una de dos condiciones:\n",
    "\n",
    "(a) que sea divisible por 400; o\n",
    "\n",
    "(b) que sea divisible por 4 y no sea divisible por 100\n",
    "\n",
    "Notar que son dos condiciones, donde la segunda condición tiene dos componentes. Prueben la función con 3 valores para verificar que funcione."
   ]
  },
  {
   "cell_type": "code",
   "execution_count": 70,
   "metadata": {
    "id": "7_MnILdz-c9v"
   },
   "outputs": [
    {
     "name": "stdout",
     "output_type": "stream",
     "text": [
      "2015 no es un año bisiesto\n",
      "2024 es un año bisiesto\n",
      "1986 no es un año bisiesto\n"
     ]
    }
   ],
   "source": [
    "# Resolver acá\n",
    "# Límites del rango\n",
    "inicio = 0\n",
    "fin = 2024\n",
    "\n",
    "def es_bisiesto(year):\n",
    "    if (year % 400 == 0) or (year % 4 == 0 and year % 100 != 0):\n",
    "        return True\n",
    "    else:\n",
    "        return False\n",
    "\n",
    "# Probamos que la función funcione correctamente con tres años distintos\n",
    "valores_a_probar = [2015, 2024, 1986]\n",
    "\n",
    "for year in valores_a_probar:\n",
    "    if es_bisiesto(year):\n",
    "        print(f\"{year} es un año bisiesto\")\n",
    "    else:\n",
    "        print(f\"{year} no es un año bisiesto\")"
   ]
  },
  {
   "cell_type": "markdown",
   "metadata": {
    "collapsed": true,
    "id": "P3a7bJkd-c9w",
    "jupyter": {
     "outputs_hidden": true
    }
   },
   "source": [
    "#### Ejercicio 6 \n",
    "Pongamos en práctica identificar el type() de cada variable. A continuación tenemos una lista con elementos de diferentes tipos. Construyan un for loop que itere sobre la lista e imprima un cartel indicando el tipo de dato u objeto que hay en cada caso."
   ]
  },
  {
   "cell_type": "code",
   "execution_count": null,
   "metadata": {
    "id": "jDf4d_Wr-c9w"
   },
   "outputs": [],
   "source": [
    "mi_lista = [10, 34.5, 99999, 'abc', [1,2,3], ('ARG', 1810), {'pob': 45}, True]"
   ]
  },
  {
   "cell_type": "code",
   "execution_count": 50,
   "metadata": {
    "id": "SAJgEiNEFQAS"
   },
   "outputs": [
    {
     "name": "stdout",
     "output_type": "stream",
     "text": [
      "El tipo de dato u objeto en este caso es: <class 'int'>\n",
      "El tipo de dato u objeto en este caso es: <class 'float'>\n",
      "El tipo de dato u objeto en este caso es: <class 'int'>\n",
      "El tipo de dato u objeto en este caso es: <class 'str'>\n",
      "El tipo de dato u objeto en este caso es: <class 'list'>\n",
      "El tipo de dato u objeto en este caso es: <class 'tuple'>\n",
      "El tipo de dato u objeto en este caso es: <class 'dict'>\n",
      "El tipo de dato u objeto en este caso es: <class 'bool'>\n"
     ]
    }
   ],
   "source": [
    "# Resolver acá\n",
    "mi_lista = [10, 34.5, 99999, 'abc', [1,2,3], ('ARG', 1810), {'pob': 45}, True]\n",
    "\n",
    "for elemento in mi_lista:\n",
    "    print(f\"El tipo de dato u objeto en este caso es: {type(elemento)}\")\n",
    "    "
   ]
  },
  {
   "cell_type": "markdown",
   "metadata": {
    "id": "y1lncitl-c9x"
   },
   "source": [
    "#### Ejercicio 7\n",
    "Ahora definan ustedes una nueva lista, en la que los primeros cuatro elementos sean palabras (strings), el quinto elemento no sea string, y el sexto sea string. Construyan un for loop que corra por la lista y que imprima la palabra y la longitud de la misma. Que el loop contenga una sentencia condicional que imprima un cartel \"Elemento no es un string: < el elemento > | < class del elemento >\" para los casos dónde el elemento evaluado no sea string."
   ]
  },
  {
   "cell_type": "code",
   "execution_count": 53,
   "metadata": {
    "id": "bFOk9Os0-c9x"
   },
   "outputs": [
    {
     "name": "stdout",
     "output_type": "stream",
     "text": [
      "Palabra: River, Longitud: 5\n",
      "Palabra: Juanfer, Longitud: 7\n",
      "Palabra: Muñeco, Longitud: 6\n",
      "Palabra: Pity, Longitud: 4\n",
      "Elemento no es un string: 912 | <class 'int'>\n",
      "Palabra: Tucuman, Longitud: 7\n"
     ]
    }
   ],
   "source": [
    "# Resolver acá\n",
    "# Definimos la lista como pide la consigna\n",
    "nueva_lista = [\"River\", \"Juanfer\", \"Muñeco\", \"Pity\", 912, \"Tucuman\"]\n",
    "\n",
    "# Iteramos e imprimimos la palabra y su longitud:\n",
    "for elemento in nueva_lista:\n",
    "    if isinstance(elemento, str):\n",
    "        print(f\"Palabra: {elemento}, Longitud: {len(elemento)}\")\n",
    "    else:\n",
    "        print(f\"Elemento no es un string: {elemento} | {type(elemento)}\")"
   ]
  },
  {
   "cell_type": "markdown",
   "metadata": {
    "id": "PUpxDz72-c9x"
   },
   "source": [
    "#### Ejercicio 8\n",
    "Argentina tiene una representación legislativa proporcional en la cual la cantidad de diputados se debería ajustar según el tamaño de población de cada provincia. Otra característica de la representación legislativa del país es que hay una cantidad mínima de diputados por provincia (5). Esto genera un desbalance en la cantidad de ciudadanos por cada representante en el Congreso entre provincias.\n",
    "\n",
    "A continuación preparamos algunos ejemplos, dividiendo la población de cada provincia (según estimación para el 2022) por la cantidad de representantes en el Congreso para esa misma jurisdicción. También armamos el equivalente para el total país y una lista con los valores provinciales.\n",
    "\n",
    "En este ejercicio les pedimos que construyan un for loop que itere sobre el diccionario definido y compare cada valor provincial contra el valor de proporcionalidad directa (la variable argentina). El loop debe imprimir una leyenda que indique si la provincia está sobrerepresentada, subrepresentada o con representación proporcional. Además, queremos que el mismo loop compare los valores de las provincias sobrerepresentadas y que guarde el valor de la provincia con mayor sobrerepresentación. Luego del loop impriman este valor así podemos ver que haya funcionado.\n",
    "\n",
    "Fuente para población: https://es.wikipedia.org/wiki/Demograf%C3%ADa_de_Argentina\n",
    "\n",
    "Fuente para representantes: https://es.wikipedia.org/wiki/C%C3%A1mara_de_Diputados_de_la_Naci%C3%B3n_Argentina"
   ]
  },
  {
   "cell_type": "code",
   "execution_count": 56,
   "metadata": {
    "id": "hd8Z5AHs-c9y"
   },
   "outputs": [],
   "source": [
    "# Valor de referencia: proporcionalidad\n",
    "argentina = 46044703 / 257\n",
    "\n",
    "# Creamos variables para una selección de jurisdicciones\n",
    "cordoba = 3978984 / 18\n",
    "santa_fe = 3556522 / 19\n",
    "mendoza = 2014533 / 10\n",
    "buenos_aires = 17569053 / 70\n",
    "entre_rios =  1426426 / 9\n",
    "santa_cruz = 333473 / 5\n",
    "formosa = 606041 / 5\n",
    "\n",
    "# Definimos el diccionario para iterar\n",
    "dict_provincias = {\n",
    "    \"Córdoba\": cordoba,\n",
    "    \"Santa Fe\": santa_fe,\n",
    "    \"Mendoza\": mendoza,\n",
    "    \"Buenos Aires\": buenos_aires,\n",
    "    \"Entre Ríos\": entre_rios,\n",
    "    \"Santa Cruz\": santa_cruz,\n",
    "    \"Formosa\": formosa\n",
    "}"
   ]
  },
  {
   "cell_type": "code",
   "execution_count": 65,
   "metadata": {},
   "outputs": [
    {
     "name": "stdout",
     "output_type": "stream",
     "text": [
      "Córdoba está subrepresentada.\n",
      "Santa Fe está subrepresentada.\n",
      "Mendoza está subrepresentada.\n",
      "Buenos Aires está subrepresentada.\n",
      "Entre Ríos está sobrerepresentada.\n",
      "Santa Cruz está sobrerepresentada.\n",
      "Formosa está sobrerepresentada.\n",
      "\n",
      "La provincia con mayor sobrerepresentación es: Santa Cruz\n"
     ]
    }
   ],
   "source": [
    "# Utilizando el diccionario\n",
    "for provincia, representacion in dict_provincias.items():\n",
    "    if representacion < argentina:\n",
    "        print(f\"{provincia} está sobrerepresentada.\")\n",
    "    elif representacion > argentina:\n",
    "        print(f\"{provincia} está subrepresentada.\")\n",
    "    else:\n",
    "        print(f\"{provincia} tiene representación proporcional.\")\n",
    "\n",
    "    # Comparación de sobrerepresentación:\n",
    "    if representacion < max_sobrerepresentacion:\n",
    "        max_sobrerepresentacion = representacion\n",
    "        provincia_max_sobrerepresentacion = provincia\n",
    "\n",
    "# Buscamos la provincia con mayor sobrerepresentación: \n",
    "print(f\"\\nLa provincia con mayor sobrerepresentación es: {provincia_max_sobrerepresentacion}\")"
   ]
  },
  {
   "cell_type": "markdown",
   "metadata": {
    "id": "GokZe5tV-c9z"
   },
   "source": [
    "#### Ejercicio 9\n",
    "Si buscáramos minimizar la subrepresentación de la provincia de Buenos Aires, ¿cuántos representantes debería tener según el Censo 2022? Usemos el mismo criterio de sub/sobrerepresentacion que en el ejercicio anterior: población sobre cantidad de representantes.\n",
    "\n",
    "Para responder esta pregunta construyan un while loop que incremente de a uno la cantidad de representantes de la Provincia hasta minimizar la subrepresentación. En cada iteración impriman un cartel que diga: \"Se agregó un representante, el total ahora es X\" dónde X es el número de representantes simulado."
   ]
  },
  {
   "cell_type": "code",
   "execution_count": 66,
   "metadata": {
    "id": "x9DvuXa_-c9z"
   },
   "outputs": [],
   "source": [
    "# Estos son los valores de la provincia\n",
    "representantes_pba = 70\n",
    "poblacion2010_pba = 17594428\n",
    "\n",
    "\n",
    "# Y el valor de referencia nacional\n",
    "argentina = 46044703 / 257\n"
   ]
  },
  {
   "cell_type": "code",
   "execution_count": 67,
   "metadata": {},
   "outputs": [
    {
     "name": "stdout",
     "output_type": "stream",
     "text": [
      "Para minimizar la subrepresentación, la Provincia de Buenos Aires debería tener 98 representantes.\n",
      "Por lo tanto, se necesitarían 28 representantes adicionales.\n"
     ]
    }
   ],
   "source": [
    "# Resolver acá\n",
    "# Calculamos cual sería la representación de Buenos Aires acorde a su población:\n",
    "representantes_pba_correctos = poblacion2010_pba / argentina\n",
    "\n",
    "# Buscamos cuantos le faltan para llegar al número acorde:\n",
    "representantes_adicionales = int(representantes_pba_correctos) - representantes_pba\n",
    "\n",
    "# Resultado\n",
    "print(f\"Para minimizar la subrepresentación, la Provincia de Buenos Aires debería tener {int(representantes_pba_correctos)} representantes.\")\n",
    "print(f\"Por lo tanto, se necesitarían {representantes_adicionales} representantes adicionales.\")\n"
   ]
  },
  {
   "cell_type": "markdown",
   "metadata": {},
   "source": [
    "#### Ejercicio 10"
   ]
  },
  {
   "cell_type": "markdown",
   "metadata": {},
   "source": [
    "Construyan una función llamada 'suma' que tome una cantidad variable de parámetros y devuelva el resultado de la suma."
   ]
  },
  {
   "cell_type": "code",
   "execution_count": 72,
   "metadata": {},
   "outputs": [
    {
     "name": "stdout",
     "output_type": "stream",
     "text": [
      "39\n",
      "100\n",
      "21\n"
     ]
    }
   ],
   "source": [
    "# Resolver acá\n",
    "def suma(*args):\n",
    "    \n",
    "    resultado = 0\n",
    "    for num in args:\n",
    "        resultado += num\n",
    "    return resultado\n",
    "\n",
    "# Ejemplos: \n",
    "print(suma(9, 12, 18))  # Resultado: 39\n",
    "print(suma(3, 13, 20, 64))  # Resultado: 100\n",
    "print(suma(5, 6, 10))  # Resultado: 21"
   ]
  },
  {
   "cell_type": "code",
   "execution_count": null,
   "metadata": {},
   "outputs": [],
   "source": []
  }
 ],
 "metadata": {
  "anaconda-cloud": {},
  "colab": {
   "name": "TP1 - Parte 1.ipynb",
   "provenance": []
  },
  "kernelspec": {
   "display_name": "Python 3 (ipykernel)",
   "language": "python",
   "name": "python3"
  },
  "language_info": {
   "codemirror_mode": {
    "name": "ipython",
    "version": 3
   },
   "file_extension": ".py",
   "mimetype": "text/x-python",
   "name": "python",
   "nbconvert_exporter": "python",
   "pygments_lexer": "ipython3",
   "version": "3.11.7"
  }
 },
 "nbformat": 4,
 "nbformat_minor": 4
}
